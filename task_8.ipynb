{
  "nbformat": 4,
  "nbformat_minor": 0,
  "metadata": {
    "colab": {
      "provenance": [],
      "authorship_tag": "ABX9TyPOJN01Ca4lu85PY7t7JHaD",
      "include_colab_link": true
    },
    "kernelspec": {
      "name": "python3",
      "display_name": "Python 3"
    },
    "language_info": {
      "name": "python"
    }
  },
  "cells": [
    {
      "cell_type": "markdown",
      "metadata": {
        "id": "view-in-github",
        "colab_type": "text"
      },
      "source": [
        "<a href=\"https://colab.research.google.com/github/mukthipriya/aiml-intership/blob/main/task_8.ipynb\" target=\"_parent\"><img src=\"https://colab.research.google.com/assets/colab-badge.svg\" alt=\"Open In Colab\"/></a>"
      ]
    },
    {
      "cell_type": "code",
      "execution_count": null,
      "metadata": {
        "id": "BP3e_gOOGaJm"
      },
      "outputs": [],
      "source": [
        "import pandas as pd\n",
        "import matplotlib.pyplot as plt\n",
        "import seaborn as sns\n",
        "\n",
        "# Load dataset\n",
        "df = pd.read_csv('Mall_Customers.csv')  # Replace with correct path\n",
        "\n",
        "# Display first few rows\n",
        "print(df.head())\n",
        "\n",
        "# Basic EDA\n",
        "sns.pairplot(df[['Age', 'Annual Income (k$)', 'Spending Score (1-100)']])\n",
        "plt.show()\n",
        "from sklearn.preprocessing import StandardScaler\n",
        "from sklearn.decomposition import PCA\n",
        "\n",
        "# Select relevant features\n",
        "features = df[['Age', 'Annual Income (k$)', 'Spending Score (1-100)']]\n",
        "scaler = StandardScaler()\n",
        "scaled_features = scaler.fit_transform(features)\n",
        "\n",
        "# PCA\n",
        "pca = PCA(n_components=2)\n",
        "pca_result = pca.fit_transform(scaled_features)\n",
        "from sklearn.cluster import KMeans\n",
        "\n",
        "# Assume k=5 for now\n",
        "kmeans = KMeans(n_clusters=5, random_state=42)\n",
        "labels = kmeans.fit_predict(scaled_features)\n",
        "df['Cluster'] = labels\n",
        "inertias = []\n",
        "K = range(1, 11)\n",
        "for k in K:\n",
        "    km = KMeans(n_clusters=k, random_state=42)\n",
        "    km.fit(scaled_features)\n",
        "    inertias.append(km.inertia_)\n",
        "\n",
        "plt.plot(K, inertias, marker='o')\n",
        "plt.xlabel('No. of clusters')\n",
        "plt.ylabel('Inertia')\n",
        "plt.title('Elbow Method')\n",
        "plt.show()\n",
        "plt.figure(figsize=(8, 6))\n",
        "plt.scatter(pca_result[:, 0], pca_result[:, 1], c=labels, cmap='viridis', s=50)\n",
        "plt.title('Customer Segments Visualized')\n",
        "plt.xlabel('PCA 1')\n",
        "plt.ylabel('PCA 2')\n",
        "plt.show()\n",
        "from sklearn.metrics import silhouette_score\n",
        "\n",
        "score = silhouette_score(scaled_features, labels)\n",
        "print(f'Silhouette Score: {score:.2f}')\n",
        "\n",
        "output:\n",
        "   CustomerID  Genre  Age  Annual Income (k$)  Spending Score (1-100)\n",
        "0           1    Male   19                  15                      39\n",
        "1           2    Male   21                  15                      81\n",
        "2           3  Female   20                  16                       6\n",
        "3           4  Female   23                  16                      77\n",
        "4           5  Female   31                  17                      40\n",
        "\n",
        "\n",
        "Inertia\n",
        "  |\n",
        "  |             ●\n",
        "  |          ●\n",
        "  |       ●\n",
        "  |    ●\n",
        "  | ●\n",
        "  |_________________________________\n",
        "       1   2   3   4   5   6   7   8   9   10  -> Number of clusters (K)\n",
        "print(f'Silhouette Score: {score:.2f}')\n",
        "Silhouette Score: 0.55\n",
        "\n"
      ]
    }
  ]
}