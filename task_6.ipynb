{
  "nbformat": 4,
  "nbformat_minor": 0,
  "metadata": {
    "colab": {
      "provenance": [],
      "authorship_tag": "ABX9TyNrjGPbXX1M2bsR5bQBBXGV",
      "include_colab_link": true
    },
    "kernelspec": {
      "name": "python3",
      "display_name": "Python 3"
    },
    "language_info": {
      "name": "python"
    }
  },
  "cells": [
    {
      "cell_type": "markdown",
      "metadata": {
        "id": "view-in-github",
        "colab_type": "text"
      },
      "source": [
        "<a href=\"https://colab.research.google.com/github/mukthipriya/aiml-intership/blob/main/task_6.ipynb\" target=\"_parent\"><img src=\"https://colab.research.google.com/assets/colab-badge.svg\" alt=\"Open In Colab\"/></a>"
      ]
    },
    {
      "cell_type": "code",
      "execution_count": null,
      "metadata": {
        "id": "yXycs4iJRxOd"
      },
      "outputs": [],
      "source": [
        "from sklearn.datasets import load_iris\n",
        "import pandas as pd\n",
        "from sklearn.preprocessing import StandardScaler\n",
        "\n",
        "# Load dataset\n",
        "iris = load_iris()\n",
        "X = iris.data\n",
        "y = iris.target\n",
        "\n",
        "# Normalize features\n",
        "scaler = StandardScaler()\n",
        "X_scaled = scaler.fit_transform(X)\n",
        "from sklearn.model_selection import train_test_split\n",
        "from sklearn.neighbors import KNeighborsClassifier\n",
        "from sklearn.metrics import accuracy_score, confusion_matrix\n",
        "import matplotlib.pyplot as plt\n",
        "import seaborn as sns\n",
        "\n",
        "# Train-test split\n",
        "X_train, X_test, y_train, y_test = train_test_split(X_scaled, y, test_size=0.3, random_state=42)\n",
        "\n",
        "# Try different values of K\n",
        "for k in range(1, 11):\n",
        "    knn = KNeighborsClassifier(n_neighbors=k)\n",
        "    knn.fit(X_train, y_train)\n",
        "    y_pred = knn.predict(X_test)\n",
        "    print(f\"K={k}, Accuracy={accuracy_score(y_test, y_pred):.2f}\")\n",
        "    print(confusion_matrix(y_test, y_pred))\n",
        "import numpy as np\n",
        "\n",
        "# Select two features\n",
        "X_reduced = X_scaled[:, 2:4]  # petal length & width\n",
        "X_train_r, X_test_r, y_train_r, y_test_r = train_test_split(X_reduced, y, test_size=0.3, random_state=42)\n",
        "\n",
        "# Fit KNN on reduced features\n",
        "knn = KNeighborsClassifier(n_neighbors=5)\n",
        "knn.fit(X_train_r, y_train_r)\n",
        "\n",
        "# Meshgrid for decision boundary\n",
        "h = 0.02\n",
        "x_min, x_max = X_reduced[:, 0].min() - 1, X_reduced[:, 0].max() + 1\n",
        "y_min, y_max = X_reduced[:, 1].min() - 1, X_reduced[:, 1].max() + 1\n",
        "xx, yy = np.meshgrid(np.arange(x_min, x_max, h),\n",
        "                     np.arange(y_min, y_max, h))\n",
        "Z = knn.predict(np.c_[xx.ravel(), yy.ravel()])\n",
        "Z = Z.reshape(xx.shape)\n",
        "\n",
        "plt.figure(figsize=(10, 6))\n",
        "plt.contourf(xx, yy, Z, alpha=0.4)\n",
        "plt.scatter(X_reduced[:, 0], X_reduced[:, 1], c=y, edgecolor='k', s=20)\n",
        "plt.title(\"KNN Decision Boundary (Petal Length vs Width)\")\n",
        "plt.xlabel(\"Petal Length (normalized)\")\n",
        "plt.ylabel(\"Petal Width (normalized)\")\n",
        "plt.show()\n",
        "\n",
        "output:\n",
        "K=1, Accuracy=1.00\n",
        "[[19  0  0]\n",
        " [ 0 13  0]\n",
        " [ 0  0 13]]\n",
        "K=2, Accuracy=1.00\n",
        "[[19  0  0]\n",
        " [ 0 13  0]\n",
        " [ 0  0 13]]\n",
        "K=3, Accuracy=1.00\n",
        "[[19  0  0]\n",
        " [ 0 13  0]\n",
        " [ 0  0 13]]\n",
        "...\n",
        "K=10, Accuracy=0.98\n",
        "[[19  0  0]\n",
        " [ 0 13  0]\n",
        " [ 0  1 12]]"
      ]
    }
  ]
}