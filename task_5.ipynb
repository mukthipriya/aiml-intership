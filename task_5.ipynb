{
  "nbformat": 4,
  "nbformat_minor": 0,
  "metadata": {
    "colab": {
      "provenance": [],
      "authorship_tag": "ABX9TyPPdCaa0XjHdZ4eTC6F8s6o",
      "include_colab_link": true
    },
    "kernelspec": {
      "name": "python3",
      "display_name": "Python 3"
    },
    "language_info": {
      "name": "python"
    }
  },
  "cells": [
    {
      "cell_type": "markdown",
      "metadata": {
        "id": "view-in-github",
        "colab_type": "text"
      },
      "source": [
        "<a href=\"https://colab.research.google.com/github/mukthipriya/aiml-intership/blob/main/task_5.ipynb\" target=\"_parent\"><img src=\"https://colab.research.google.com/assets/colab-badge.svg\" alt=\"Open In Colab\"/></a>"
      ]
    },
    {
      "cell_type": "code",
      "execution_count": null,
      "metadata": {
        "id": "SETFjsCkQNzz"
      },
      "outputs": [],
      "source": [
        "import pandas as pd\n",
        "from sklearn.model_selection import train_test_split, cross_val_score\n",
        "from sklearn.tree import DecisionTreeClassifier, export_graphviz\n",
        "from sklearn.ensemble import RandomForestClassifier\n",
        "from sklearn.metrics import accuracy_score\n",
        "import matplotlib.pyplot as plt\n",
        "import numpy as np\n",
        "\n",
        "# Load data\n",
        "df = pd.read_csv(\"heart.csv\")  # Ensure this file exists in your directory\n",
        "\n",
        "X = df.drop('target', axis=1)\n",
        "y = df['target']\n",
        "\n",
        "X_train, X_test, y_train, y_test = train_test_split(X, y, test_size=0.2, random_state=42)\n",
        "\n",
        "# Decision Tree\n",
        "dtree = DecisionTreeClassifier(random_state=42)\n",
        "dtree.fit(X_train, y_train)\n",
        "y_pred = dtree.predict(X_test)\n",
        "print(\"Decision Tree Accuracy:\", accuracy_score(y_test, y_pred))\n",
        "\n",
        "# Visualize Decision Tree (requires graphviz installed on your system)\n",
        "try:\n",
        "    import graphviz\n",
        "    dot_data = export_graphviz(\n",
        "        dtree, out_file=None,\n",
        "        feature_names=X.columns,\n",
        "        class_names=['No Disease', 'Disease'],\n",
        "        filled=True, rounded=True,\n",
        "        special_characters=True\n",
        "    )\n",
        "    graph = graphviz.Source(dot_data)\n",
        "    graph.render(\"decision_tree\")  # creates a PDF\n",
        "    # graph.view()  # Uncomment to open the PDF automatically\n",
        "except Exception as e:\n",
        "    print(\"Graphviz visualization skipped:\", e)\n",
        "\n",
        "# Pruned Decision Tree\n",
        "dtree_pruned = DecisionTreeClassifier(max_depth=3, random_state=42)\n",
        "dtree_pruned.fit(X_train, y_train)\n",
        "print(\"Pruned Tree Accuracy:\", accuracy_score(y_test, dtree_pruned.predict(X_test)))\n",
        "\n",
        "# Random Forest\n",
        "rf = RandomForestClassifier(n_estimators=100, random_state=42)\n",
        "rf.fit(X_train, y_train)\n",
        "rf_pred = rf.predict(X_test)\n",
        "print(\"Random Forest Accuracy:\", accuracy_score(y_test, rf_pred))\n",
        "\n",
        "# Feature Importances\n",
        "importances = rf.feature_importances_\n",
        "indices = np.argsort(importances)[::-1]\n",
        "plt.figure(figsize=(10,6))\n",
        "plt.title(\"Feature Importances\")\n",
        "plt.bar(range(X.shape[1]), importances[indices])\n",
        "plt.xticks(range(X.shape[1]), X.columns[indices], rotation=90)\n",
        "plt.show()\n",
        "\n",
        "# Cross-validation\n",
        "cv_scores = cross_val_score(rf, X, y, cv=5)\n",
        "print(\"Random Forest CV Accuracy: %.2f (+/- %.2f)\" % (cv_scores.mean(), cv_scores.std()))"
      ]
    }
  ]
}